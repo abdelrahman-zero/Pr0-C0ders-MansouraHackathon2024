{
 "cells": [
  {
   "cell_type": "markdown",
   "metadata": {
    "_kg_hide-input": false
   },
   "source": [
    "Published on October 03, 2023. By Marília Prata, mpwolke."
   ]
  },
  {
   "cell_type": "code",
   "execution_count": null,
   "metadata": {
    "execution": {
     "iopub.execute_input": "2023-10-03T18:11:21.229534Z",
     "iopub.status.busy": "2023-10-03T18:11:21.229072Z",
     "iopub.status.idle": "2023-10-03T18:11:28.451432Z",
     "shell.execute_reply": "2023-10-03T18:11:28.450516Z",
     "shell.execute_reply.started": "2023-10-03T18:11:21.229483Z"
    },
    "trusted": true
   },
   "outputs": [],
   "source": [
    "import numpy as np\n",
    "import matplotlib.pyplot as plt\n",
    "from sklearn.model_selection import train_test_split\n",
    "from tensorflow.keras.preprocessing.image import ImageDataGenerator\n",
    "from tensorflow.keras.models import Sequential\n",
    "from tensorflow.keras.layers import Conv2D, MaxPooling2D, Flatten, Dense, Dropout"
   ]
  },
  {
   "cell_type": "code",
   "execution_count": null,
   "metadata": {
    "execution": {
     "iopub.execute_input": "2023-10-03T18:11:34.00056Z",
     "iopub.status.busy": "2023-10-03T18:11:33.999963Z",
     "iopub.status.idle": "2023-10-03T18:11:34.18668Z",
     "shell.execute_reply": "2023-10-03T18:11:34.185768Z",
     "shell.execute_reply.started": "2023-10-03T18:11:34.000525Z"
    },
    "trusted": true
   },
   "outputs": [],
   "source": [
    "# Data augmentation and preprocessing\n",
    "train_datagen = ImageDataGenerator(\n",
    "    rescale=1./255,\n",
    "    rotation_range=20,\n",
    "    width_shift_range=0.2,\n",
    "    height_shift_range=0.2,\n",
    "    shear_range=0.2,\n",
    "    zoom_range=0.2,\n",
    "    horizontal_flip=True,\n",
    "    fill_mode='nearest')\n",
    "\n",
    "train_generator = train_datagen.flow_from_directory(\n",
    "    '/kaggle/input/20-skin-diseases-dataset/Dataset/train',  # Path to training data directory\n",
    "    target_size=(128, 128),\n",
    "    batch_size=32,\n",
    "    class_mode='categorical')\n",
    "\n",
    "test_datagen = ImageDataGenerator(rescale=1./255)\n",
    "\n",
    "test_generator = test_datagen.flow_from_directory(\n",
    "    '/kaggle/input/',  # Path to testing data directory\n",
    "    target_size=(128, 128),\n",
    "    batch_size=32,\n",
    "    class_mode='categorical')"
   ]
  },
  {
   "cell_type": "markdown",
   "metadata": {},
   "source": [
    "#Number of classes check above"
   ]
  },
  {
   "cell_type": "code",
   "execution_count": null,
   "metadata": {
    "execution": {
     "iopub.execute_input": "2023-10-03T18:12:02.970623Z",
     "iopub.status.busy": "2023-10-03T18:12:02.970276Z",
     "iopub.status.idle": "2023-10-03T18:12:02.97517Z",
     "shell.execute_reply": "2023-10-03T18:12:02.973929Z",
     "shell.execute_reply.started": "2023-10-03T18:12:02.970595Z"
    },
    "trusted": true
   },
   "outputs": [],
   "source": [
    "path = '../input/20-skin-diseases-dataset/Dataset/train/' #Don't forget that last bar"
   ]
  },
  {
   "cell_type": "code",
   "execution_count": null,
   "metadata": {
    "execution": {
     "iopub.execute_input": "2023-10-03T18:12:19.660376Z",
     "iopub.status.busy": "2023-10-03T18:12:19.659417Z",
     "iopub.status.idle": "2023-10-03T18:12:19.66667Z",
     "shell.execute_reply": "2023-10-03T18:12:19.665754Z",
     "shell.execute_reply.started": "2023-10-03T18:12:19.660333Z"
    },
    "trusted": true
   },
   "outputs": [],
   "source": [
    "class_names = sorted(os.listdir(path))\n",
    "num_classes = len(class_names)\n",
    "\n",
    "img_size = (192, 192, 3)\n",
    "\n",
    "print('classes: ', class_names)"
   ]
  },
  {
   "cell_type": "markdown",
   "metadata": {},
   "source": [
    "#Epochs"
   ]
  },
  {
   "cell_type": "code",
   "execution_count": null,
   "metadata": {
    "_kg_hide-input": true,
    "execution": {
     "iopub.execute_input": "2023-10-03T18:12:29.677825Z",
     "iopub.status.busy": "2023-10-03T18:12:29.677432Z",
     "iopub.status.idle": "2023-10-03T18:12:55.92047Z",
     "shell.execute_reply": "2023-10-03T18:12:55.919545Z",
     "shell.execute_reply.started": "2023-10-03T18:12:29.677797Z"
    },
    "trusted": true
   },
   "outputs": [],
   "source": [
    "#CRN4TWW https://www.kaggle.com/code/crn4tww/dog-emotions-classifier\n",
    "\n",
    "import cv2\n",
    "\n",
    "labels = []\n",
    "images = []\n",
    "\n",
    "print('images:\\n')\n",
    "for cl in class_names:\n",
    "    print(cl, end=' -> ')\n",
    "    for img in os.listdir(path + cl):\n",
    "        label = np.zeros(num_classes)\n",
    "        label[class_names.index(cl)] = 1\n",
    "        labels.append(label)\n",
    "        \n",
    "        image = np.asarray(cv2.resize(cv2.imread(path + cl + '/' + img, cv2.IMREAD_COLOR), img_size[0:2])[:, :, ::-1])#That line remove Blue\n",
    "        \n",
    "        #image = np.asarray(cv2.resize(cv2.imread(data_path + cl + '/' + img, cv2.COLOR_BGR2RGB), img_size[0:2]))\n",
    "        images.append(image)\n",
    "    print('done')\n",
    "\n",
    "    \n",
    "labels = np.asarray(labels)\n",
    "images = np.asarray(images)\n",
    "\n",
    "print(f'\\n\\nlabels shape: {labels.shape}')\n",
    "print(f'images shape: {images.shape}')"
   ]
  },
  {
   "cell_type": "code",
   "execution_count": null,
   "metadata": {
    "_kg_hide-input": true,
    "execution": {
     "iopub.execute_input": "2023-10-03T17:56:59.323189Z",
     "iopub.status.busy": "2023-10-03T17:56:59.322781Z",
     "iopub.status.idle": "2023-10-03T17:57:00.896475Z",
     "shell.execute_reply": "2023-10-03T17:57:00.895157Z",
     "shell.execute_reply.started": "2023-10-03T17:56:59.323146Z"
    },
    "trusted": true
   },
   "outputs": [],
   "source": [
    "#CRN4TWW https://www.kaggle.com/code/crn4tww/cnn-cheetahs-and-lions-classifier\n",
    "\n",
    "from random import randint\n",
    "\n",
    "fig, axs = plt.subplots(3, 3, figsize=(16, 16))#Original was 10,6\n",
    "\n",
    "for x in range(3):\n",
    "    for y in range(3):\n",
    "        i = randint(0, len(images))\n",
    "        \n",
    "        axs[x][y].imshow(images[i])\n",
    "        \n",
    "                    \n",
    "        axs[x][y].set_xticks([])\n",
    "        axs[x][y].set_yticks([])\n",
    "        axs[x][y].set_xlabel(class_names[np.argmax(labels[i])])\n",
    "        \n",
    "        \n",
    "plt.show()"
   ]
  },
  {
   "cell_type": "code",
   "execution_count": null,
   "metadata": {
    "execution": {
     "iopub.execute_input": "2023-10-03T18:13:24.936387Z",
     "iopub.status.busy": "2023-10-03T18:13:24.936032Z",
     "iopub.status.idle": "2023-10-03T18:13:25.023987Z",
     "shell.execute_reply": "2023-10-03T18:13:25.023033Z",
     "shell.execute_reply.started": "2023-10-03T18:13:24.936355Z"
    },
    "trusted": true
   },
   "outputs": [],
   "source": [
    "#CRN4TWW https://www.kaggle.com/code/crn4tww/dog-emotions-classifier\n",
    "\n",
    "X_train, X_val, y_train, y_val = train_test_split(images, labels, test_size=0.15, random_state=42)\n",
    "\n",
    "print(f'train images shape: {X_train.shape}\\ntrain labels shape: {y_train.shape}\\n\\nvalidation images shape: {X_val.shape}\\nvalidation labels shape: {y_val.shape}\\n')"
   ]
  },
  {
   "cell_type": "markdown",
   "metadata": {},
   "source": [
    "#CNN Model"
   ]
  },
  {
   "cell_type": "code",
   "execution_count": null,
   "metadata": {
    "execution": {
     "iopub.execute_input": "2023-10-03T18:13:34.431548Z",
     "iopub.status.busy": "2023-10-03T18:13:34.431195Z",
     "iopub.status.idle": "2023-10-03T18:13:37.431874Z",
     "shell.execute_reply": "2023-10-03T18:13:37.431161Z",
     "shell.execute_reply.started": "2023-10-03T18:13:34.431512Z"
    },
    "trusted": true
   },
   "outputs": [],
   "source": [
    "#CRN4TWW https://www.kaggle.com/code/crn4tww/dog-emotions-classifier\n",
    "\n",
    "import tensorflow as tf\n",
    "\n",
    "cnn_model = tf.keras.Sequential()\n",
    "\n",
    "# Inputs and rescaling\n",
    "cnn_model.add(tf.keras.layers.Rescaling(scale=1. / 255, input_shape=(img_size)))\n",
    "\n",
    "# Convolutional block 1\n",
    "cnn_model.add(tf.keras.layers.Conv2D(64, (3, 3), activation='relu', padding='same'))\n",
    "cnn_model.add(tf.keras.layers.Conv2D(64, (3, 3), activation='relu', padding='same'))\n",
    "cnn_model.add(tf.keras.layers.MaxPooling2D(pool_size=2))\n",
    "\n",
    "# Convolutional block 2\n",
    "cnn_model.add(tf.keras.layers.Conv2D(128, (2, 2), activation='relu', padding='same'))\n",
    "cnn_model.add(tf.keras.layers.Conv2D(128, (2, 2), activation='relu', padding='same'))\n",
    "cnn_model.add(tf.keras.layers.MaxPooling2D(pool_size=2))\n",
    "\n",
    "# Convolutional block 3\n",
    "cnn_model.add(tf.keras.layers.Conv2D(256, (2, 2), activation='relu', padding='same'))\n",
    "cnn_model.add(tf.keras.layers.Conv2D(256, (2, 2), activation='relu', padding='same'))\n",
    "cnn_model.add(tf.keras.layers.MaxPooling2D(pool_size=2))\n",
    "\n",
    "# Convolutional block 4\n",
    "cnn_model.add(tf.keras.layers.Conv2D(512, (2, 2), activation='relu', padding='same'))\n",
    "cnn_model.add(tf.keras.layers.Conv2D(512, (2, 2), activation='relu', padding='same'))\n",
    "cnn_model.add(tf.keras.layers.MaxPooling2D(pool_size=2))\n",
    "cnn_model.add(tf.keras.layers.Flatten())\n",
    "\n",
    "# Dense block\n",
    "cnn_model.add(tf.keras.layers.Dense(256, activation='relu'))\n",
    "cnn_model.add(tf.keras.layers.Dense(128, activation='relu'))\n",
    "cnn_model.add(tf.keras.layers.Dense(64, activation='relu'))\n",
    "cnn_model.add(tf.keras.layers.Dense(num_classes, activation='softmax'))\n",
    "\n",
    "\n",
    "cnn_model.compile(optimizer='Adamax', loss='categorical_crossentropy', metrics=['accuracy'])\n",
    "\n",
    "cnn_model.summary()"
   ]
  },
  {
   "cell_type": "code",
   "execution_count": null,
   "metadata": {
    "execution": {
     "iopub.execute_input": "2023-10-03T18:14:08.611319Z",
     "iopub.status.busy": "2023-10-03T18:14:08.610998Z",
     "iopub.status.idle": "2023-10-03T18:14:08.617471Z",
     "shell.execute_reply": "2023-10-03T18:14:08.616451Z",
     "shell.execute_reply.started": "2023-10-03T18:14:08.611293Z"
    },
    "trusted": true
   },
   "outputs": [],
   "source": [
    "#CRN4TWW https://www.kaggle.com/code/crn4tww/dog-emotions-classifier\n",
    "\n",
    "from tensorflow.keras.callbacks import ModelCheckpoint\n",
    "\n",
    "# creating ModelChecpoint callback\n",
    "checkpoint_callback = ModelCheckpoint('cnn_model/model{epoch:02d}')"
   ]
  },
  {
   "cell_type": "markdown",
   "metadata": {},
   "source": [
    "#Epochs 20"
   ]
  },
  {
   "cell_type": "code",
   "execution_count": null,
   "metadata": {
    "execution": {
     "iopub.execute_input": "2023-10-03T18:14:15.261617Z",
     "iopub.status.busy": "2023-10-03T18:14:15.261267Z",
     "iopub.status.idle": "2023-10-03T18:19:39.334229Z",
     "shell.execute_reply": "2023-10-03T18:19:39.333201Z",
     "shell.execute_reply.started": "2023-10-03T18:14:15.261592Z"
    },
    "trusted": true
   },
   "outputs": [],
   "source": [
    "history = cnn_model.fit(images, labels, epochs=20, validation_data=(X_val, y_val), callbacks=[checkpoint_callback])"
   ]
  },
  {
   "cell_type": "code",
   "execution_count": null,
   "metadata": {
    "_kg_hide-input": true,
    "execution": {
     "iopub.execute_input": "2023-10-03T18:19:39.700042Z",
     "iopub.status.busy": "2023-10-03T18:19:39.699712Z",
     "iopub.status.idle": "2023-10-03T18:19:40.223432Z",
     "shell.execute_reply": "2023-10-03T18:19:40.222544Z",
     "shell.execute_reply.started": "2023-10-03T18:19:39.700018Z"
    },
    "trusted": true
   },
   "outputs": [],
   "source": [
    "#CRN4TWW https://www.kaggle.com/code/crn4tww/dog-emotions-classifier\n",
    "\n",
    "accuracy = history.history['accuracy']\n",
    "val_accuracy = history.history['val_accuracy']\n",
    "\n",
    "loss = history.history['loss']\n",
    "val_loss = history.history['val_loss']\n",
    "\n",
    "epochs = range(len(accuracy))\n",
    "\n",
    "plt.figure()\n",
    "plt.plot(epochs, accuracy, label='Training Accuracy')\n",
    "plt.plot(epochs, loss, label='Training Loss')\n",
    "plt.legend()\n",
    "plt.title('Training Accuracy and Loss')\n",
    "\n",
    "plt.figure()\n",
    "plt.plot(epochs, val_accuracy, label='Validation Accuracy')\n",
    "plt.plot(epochs, val_loss, label='Validation Loss')\n",
    "plt.legend()\n",
    "plt.title('Validation Accuracy and Loss')\n",
    "\n",
    "plt.show()"
   ]
  },
  {
   "cell_type": "code",
   "execution_count": null,
   "metadata": {
    "_kg_hide-input": true,
    "execution": {
     "iopub.execute_input": "2023-10-03T18:41:39.212379Z",
     "iopub.status.busy": "2023-10-03T18:41:39.212036Z",
     "iopub.status.idle": "2023-10-03T18:41:39.884261Z",
     "shell.execute_reply": "2023-10-03T18:41:39.883475Z",
     "shell.execute_reply.started": "2023-10-03T18:41:39.212352Z"
    },
    "trusted": true
   },
   "outputs": [],
   "source": [
    "#CRN4TWW https://www.kaggle.com/code/crn4tww/dog-emotions-classifier\n",
    "\n",
    "fig, axs = plt.subplots(2, 2, figsize=(20, 20))#Original was 7,4 (28 is higher than 25) and figsize 15,15\n",
    "plt.legend(fontsize=\"20\")#I can't read any of them\n",
    "\n",
    "i = 0\n",
    "for x in range(2): #Original was 7 so resulted in error 7X4 = 28\n",
    "    for y in range(2):\n",
    "        prediction = cnn_model.predict(X_val[i][None, ...], verbose=0)[0],\n",
    "       \n",
    "        \n",
    "        axs[x][y].set_xticks([])\n",
    "        axs[x][y].set_yticks([])\n",
    "        axs[x][y].set_xlabel(f'prediction: {class_names[np.argmax(prediction)]} | label: {class_names[np.argmax(y_val[i])]}')\n",
    "        \n",
    "        axs[x][y].imshow(X_val[i])\n",
    "        \n",
    "        i += 1\n",
    "plt.show()\n"
   ]
  },
  {
   "cell_type": "markdown",
   "metadata": {},
   "source": [
    "Above, that was the only size that I could read the legends.\n",
    "More images, the letters were so tiny."
   ]
  },
  {
   "cell_type": "markdown",
   "metadata": {},
   "source": [
    "#Acknowledgements:\n",
    "\n",
    "mpwolke https://www.kaggle.com/code/mpwolke/avoid-opencv2-blue-images\n",
    "\n",
    "mpwolke https://www.kaggle.com/code/mpwolke/monkeys-cnn-classifier#CNN-(Convolutional-Neural-Network)\n",
    "\n",
    "mpwolke https://www.kaggle.com/code/mpwolke/coral-snake-cnn\n",
    "\n",
    "CRN4TWW https://www.kaggle.com/code/crn4tww/dog-emotions-classifier\n",
    "\n",
    "CRN4TWW https://www.kaggle.com/code/crn4tww/cnn-cheetahs-and-lions-classifier"
   ]
  }
 ],
 "metadata": {
  "kaggle": {
   "accelerator": "gpu",
   "dataSources": [
    {
     "datasetId": 2480895,
     "sourceId": 4208211,
     "sourceType": "datasetVersion"
    }
   ],
   "dockerImageVersionId": 30558,
   "isGpuEnabled": true,
   "isInternetEnabled": false,
   "language": "python",
   "sourceType": "notebook"
  },
  "kernelspec": {
   "display_name": "Python 3",
   "language": "python",
   "name": "python3"
  },
  "language_info": {
   "codemirror_mode": {
    "name": "ipython",
    "version": 3
   },
   "file_extension": ".py",
   "mimetype": "text/x-python",
   "name": "python",
   "nbconvert_exporter": "python",
   "pygments_lexer": "ipython3",
   "version": "3.11.9"
  }
 },
 "nbformat": 4,
 "nbformat_minor": 4
}
